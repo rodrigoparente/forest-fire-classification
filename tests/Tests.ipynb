{
 "cells": [
  {
   "cell_type": "code",
   "execution_count": 11,
   "id": "edaca454",
   "metadata": {},
   "outputs": [],
   "source": [
    "import numpy as np\n",
    "import scipy.stats as st\n",
    "\n",
    "from sklearn.metrics import ConfusionMatrixDisplay\n",
    "\n",
    "from matplotlib import pyplot as plt\n",
    "import seaborn as sns\n",
    "\n",
    "%matplotlib inline"
   ]
  },
  {
   "cell_type": "code",
   "execution_count": 12,
   "id": "32cb610f",
   "metadata": {},
   "outputs": [],
   "source": [
    "# filtering messages to error\n",
    "import warnings\n",
    "\n",
    "warnings.filterwarnings('ignore')"
   ]
  },
  {
   "cell_type": "markdown",
   "id": "3ec1070d",
   "metadata": {},
   "source": [
    "# Utils"
   ]
  },
  {
   "cell_type": "code",
   "execution_count": 13,
   "id": "ee1be87d",
   "metadata": {},
   "outputs": [],
   "source": [
    "def read_file(filename):\n",
    "    tmp = list()\n",
    "    with open(filename) as f:\n",
    "        for line in f:\n",
    "            tmp.append(float(line.rstrip()))\n",
    "    return tmp"
   ]
  },
  {
   "cell_type": "code",
   "execution_count": 34,
   "id": "16c97564",
   "metadata": {},
   "outputs": [],
   "source": [
    "def read_matrices(filename):\n",
    "    tp = list()\n",
    "    fp = list()\n",
    "    fn = list()\n",
    "    tn = list()\n",
    "    \n",
    "    with open(filename) as f:\n",
    "        for line in f:\n",
    "            val = [float(v) for v in line.rstrip().split(' ')]\n",
    "            tp.append(val[0])\n",
    "            fp.append(val[1])\n",
    "            fn.append(val[2])\n",
    "            tn.append(val[3])\n",
    "    \n",
    "    tp_mean = np.mean(tp)\n",
    "    tp_lower, tp_upper = st.t.interval(alpha=.95, df=len(data)-1, loc=tp_mean, scale=st.sem(data))\n",
    "    \n",
    "    fp_mean = np.mean(fp)\n",
    "    fp_lower, fp_upper = st.t.interval(alpha=.95, df=len(data)-1, loc=fp_mean, scale=st.sem(data))\n",
    "    \n",
    "    fn_mean = np.mean(fn)\n",
    "    fn_lower, fn_upper = st.t.interval(alpha=.95, df=len(data)-1, loc=fn_mean, scale=st.sem(data))\n",
    "     \n",
    "    tn_mean = np.mean(tn)\n",
    "    tn_lower, tn_upper = st.t.interval(alpha=.95, df=len(data)-1, loc=tn_mean, scale=st.sem(data))\n",
    "\n",
    "    \n",
    "    mean_matrix = [[tp_mean, fp_mean], [fn_mean, tn_mean]]\n",
    "    lower_matrix = [[tp_lower, fp_lower], [fn_lower, tn_lower]] \n",
    "    upper_matrix = [[tp_upper, fp_upper], [fn_upper, tn_upper]]\n",
    "    \n",
    "    return mean_matrix, lower_matrix, upper_matrix"
   ]
  },
  {
   "cell_type": "markdown",
   "id": "6b8291e0",
   "metadata": {},
   "source": [
    "# Tensorflow Metrics"
   ]
  },
  {
   "cell_type": "code",
   "execution_count": 20,
   "id": "be73ec7f",
   "metadata": {},
   "outputs": [
    {
     "name": "stdout",
     "output_type": "stream",
     "text": [
      "= accs =\n",
      "\n",
      "lower: 0.973\n",
      "mean: 0.979\n",
      "upper: 0.986\n"
     ]
    }
   ],
   "source": [
    "data = read_file(f'results/accs.txt')\n",
    "\n",
    "mean = np.mean(data)\n",
    "lower, upper = st.t.interval(alpha=.95, df=len(data)-1, loc=mean, scale=st.sem(data))\n",
    "\n",
    "print('= accs =\\n')\n",
    "print(f'lower: {lower:.3f}\\nmean: {mean:.3f}\\nupper: {upper:.3f}')"
   ]
  },
  {
   "cell_type": "code",
   "execution_count": 21,
   "id": "7ef8026b",
   "metadata": {},
   "outputs": [
    {
     "name": "stdout",
     "output_type": "stream",
     "text": [
      "= times =\n",
      "\n",
      "lower: 5.263\n",
      "mean: 5.431\n",
      "upper: 5.598\n"
     ]
    }
   ],
   "source": [
    "data = read_file(f'results/times.txt')\n",
    "\n",
    "mean = np.mean(data)\n",
    "lower, upper = st.t.interval(alpha=.95, df=len(data)-1, loc=mean, scale=st.sem(data))\n",
    "\n",
    "print('= times =\\n')\n",
    "print(f'lower: {lower:.3f}\\nmean: {mean:.3f}\\nupper: {upper:.3f}')"
   ]
  },
  {
   "cell_type": "code",
   "execution_count": 22,
   "id": "539d13d1",
   "metadata": {},
   "outputs": [
    {
     "name": "stdout",
     "output_type": "stream",
     "text": [
      "= precisions =\n",
      "\n",
      "lower: 0.975\n",
      "mean: 0.984\n",
      "upper: 0.993\n"
     ]
    }
   ],
   "source": [
    "data = read_file(f'results/precisions.txt')\n",
    "\n",
    "mean = np.mean(data)\n",
    "lower, upper = st.t.interval(alpha=.95, df=len(data)-1, loc=mean, scale=st.sem(data))\n",
    "\n",
    "print('= precisions =\\n')\n",
    "print(f'lower: {lower:.3f}\\nmean: {mean:.3f}\\nupper: {upper:.3f}')"
   ]
  },
  {
   "cell_type": "code",
   "execution_count": 23,
   "id": "43c1cc76",
   "metadata": {},
   "outputs": [
    {
     "name": "stdout",
     "output_type": "stream",
     "text": [
      "= recalls =\n",
      "\n",
      "lower: 0.964\n",
      "mean: 0.975\n",
      "upper: 0.987\n"
     ]
    }
   ],
   "source": [
    "data = read_file(f'results/recalls.txt')\n",
    "\n",
    "mean = np.mean(data)\n",
    "lower, upper = st.t.interval(alpha=.95, df=len(data)-1, loc=mean, scale=st.sem(data))\n",
    "\n",
    "print('= recalls =\\n')\n",
    "print(f'lower: {lower:.3f}\\nmean: {mean:.3f}\\nupper: {upper:.3f}')"
   ]
  },
  {
   "cell_type": "code",
   "execution_count": 24,
   "id": "2f441b36",
   "metadata": {},
   "outputs": [
    {
     "name": "stdout",
     "output_type": "stream",
     "text": [
      "= f1s =\n",
      "\n",
      "lower: 0.973\n",
      "mean: 0.979\n",
      "upper: 0.986\n"
     ]
    }
   ],
   "source": [
    "data = read_file(f'results/f1s.txt')\n",
    "\n",
    "mean = np.mean(data)\n",
    "lower, upper = st.t.interval(alpha=.95, df=len(data)-1, loc=mean, scale=st.sem(data))\n",
    "\n",
    "print('= f1s =\\n')\n",
    "print(f'lower: {lower:.3f}\\nmean: {mean:.3f}\\nupper: {upper:.3f}')"
   ]
  },
  {
   "cell_type": "code",
   "execution_count": 35,
   "id": "0f55ce3d",
   "metadata": {},
   "outputs": [],
   "source": [
    "mean_matrix, lower_matrix, upper_matrix = read_matrices('results/cms.txt')"
   ]
  },
  {
   "cell_type": "code",
   "execution_count": 48,
   "id": "62caf54f",
   "metadata": {},
   "outputs": [
    {
     "data": {
      "image/png": "[encoded data removed]",
      "text/plain": [
       "<Figure size 288x288 with 2 Axes>"
      ]
     },
     "metadata": {
      "needs_background": "light"
     },
     "output_type": "display_data"
    }
   ],
   "source": [
    "fig, ax = plt.subplots(figsize=(4, 4))\n",
    "\n",
    "ax.set_title('Lower Matrix')\n",
    "ax = sns.heatmap(lower_matrix, annot=True, fmt=\".2f\", linewidths=.5, \n",
    "        yticklabels=['With Fire', 'Without Fire'], xticklabels=['With Fire', 'Without Fire'], cmap=plt.cm.Blues)\n",
    "        \n",
    "ax.set_xticklabels(ax.get_xticklabels(), rotation=45)\n",
    "ax.set_yticklabels(ax.get_yticklabels(), rotation=0)\n",
    "plt.show()"
   ]
  },
  {
   "cell_type": "code",
   "execution_count": 49,
   "id": "049b77d0",
   "metadata": {},
   "outputs": [
    {
     "data": {
      "image/png": "[encoded data removed]",
      "text/plain": [
       "<Figure size 288x288 with 2 Axes>"
      ]
     },
     "metadata": {
      "needs_background": "light"
     },
     "output_type": "display_data"
    }
   ],
   "source": [
    "fig, ax = plt.subplots(figsize=(4, 4))\n",
    "\n",
    "ax.set_title('Mean Matrix')\n",
    "ax = sns.heatmap(mean_matrix, annot=True, fmt=\".2f\", linewidths=.5, \n",
    "        yticklabels=['With Fire', 'Without Fire'], xticklabels=['With Fire', 'Without Fire'], cmap=plt.cm.Blues)\n",
    "        \n",
    "ax.set_xticklabels(ax.get_xticklabels(), rotation=45)\n",
    "ax.set_yticklabels(ax.get_yticklabels(), rotation=0)\n",
    "plt.show()"
   ]
  },
  {
   "cell_type": "code",
   "execution_count": 50,
   "id": "829a3f69",
   "metadata": {},
   "outputs": [
    {
     "data": {
      "image/png": "[encoded data removed]",
      "text/plain": [
       "<Figure size 288x288 with 2 Axes>"
      ]
     },
     "metadata": {
      "needs_background": "light"
     },
     "output_type": "display_data"
    }
   ],
   "source": [
    "fig, ax = plt.subplots(figsize=(4, 4))\n",
    "\n",
    "ax.set_title('Upper Matrix')\n",
    "ax = sns.heatmap(upper_matrix, annot=True, fmt=\".2f\", linewidths=.5, \n",
    "        yticklabels=['With Fire', 'Without Fire'], xticklabels=['With Fire', 'Without Fire'], cmap=plt.cm.Blues)\n",
    "        \n",
    "ax.set_xticklabels(ax.get_xticklabels(), rotation=45)\n",
    "ax.set_yticklabels(ax.get_yticklabels(), rotation=0)\n",
    "plt.show()"
   ]
  },
  {
   "cell_type": "markdown",
   "id": "ff20cfa4",
   "metadata": {},
   "source": [
    "# Tensorflow Lite Metrics"
   ]
  },
  {
   "cell_type": "code",
   "execution_count": null,
   "id": "b977c5d5",
   "metadata": {},
   "outputs": [],
   "source": [
    "data = read_file(f'results/accs.txt')\n",
    "\n",
    "mean = np.mean(data)\n",
    "lower, upper = st.t.interval(alpha=.95, df=len(data)-1, loc=mean, scale=st.sem(data))\n",
    "\n",
    "print('= accs =\\n')\n",
    "print(f'lower: {lower:.3f}\\nmean: {mean:.3f}\\nupper: {upper:.3f}')"
   ]
  },
  {
   "cell_type": "code",
   "execution_count": null,
   "id": "7296125e",
   "metadata": {},
   "outputs": [],
   "source": [
    "data = read_file(f'results/tflite-times.txt')\n",
    "\n",
    "mean = np.mean(data)\n",
    "lower, upper = st.t.interval(alpha=.95, df=len(data)-1, loc=mean, scale=st.sem(data))\n",
    "\n",
    "print('= times =\\n')\n",
    "print(f'lower: {lower:.3f}\\nmean: {mean:.3f}\\nupper: {upper:.3f}')"
   ]
  },
  {
   "cell_type": "code",
   "execution_count": null,
   "id": "a4ba3c17",
   "metadata": {},
   "outputs": [],
   "source": [
    "data = read_file(f'results/tflite-precisions.txt')\n",
    "\n",
    "mean = np.mean(data)\n",
    "lower, upper = st.t.interval(alpha=.95, df=len(data)-1, loc=mean, scale=st.sem(data))\n",
    "\n",
    "print('= precisions =\\n')\n",
    "print(f'lower: {lower:.3f}\\nmean: {mean:.3f}\\nupper: {upper:.3f}')"
   ]
  },
  {
   "cell_type": "code",
   "execution_count": null,
   "id": "0e868a28",
   "metadata": {},
   "outputs": [],
   "source": [
    "data = read_file(f'results/tflite-recalls.txt')\n",
    "\n",
    "mean = np.mean(data)\n",
    "lower, upper = st.t.interval(alpha=.95, df=len(data)-1, loc=mean, scale=st.sem(data))\n",
    "\n",
    "print('= recalls =\\n')\n",
    "print(f'lower: {lower:.3f}\\nmean: {mean:.3f}\\nupper: {upper:.3f}')"
   ]
  },
  {
   "cell_type": "code",
   "execution_count": null,
   "id": "25531f0d",
   "metadata": {},
   "outputs": [],
   "source": [
    "data = read_file(f'results/tflite-f1s.txt')\n",
    "\n",
    "mean = np.mean(data)\n",
    "lower, upper = st.t.interval(alpha=.95, df=len(data)-1, loc=mean, scale=st.sem(data))\n",
    "\n",
    "print('= f1s =\\n')\n",
    "print(f'lower: {lower:.3f}\\nmean: {mean:.3f}\\nupper: {upper:.3f}')"
   ]
  },
  {
   "cell_type": "code",
   "execution_count": null,
   "id": "d2b988d0",
   "metadata": {},
   "outputs": [],
   "source": [
    "mean_matrix, lower_matrix, upper_matrix = read_matrices('results/tflite-cms.txt')"
   ]
  },
  {
   "cell_type": "code",
   "execution_count": null,
   "id": "b855c416",
   "metadata": {},
   "outputs": [],
   "source": [
    "fig, ax = plt.subplots(figsize=(4, 4))\n",
    "\n",
    "ax.set_title('Lower Matrix')\n",
    "ax = sns.heatmap(lower_matrix, annot=True, fmt=\".2f\", linewidths=.5, \n",
    "        yticklabels=['With Fire', 'Without Fire'], xticklabels=['With Fire', 'Without Fire'], cmap=plt.cm.Blues)\n",
    "        \n",
    "ax.set_xticklabels(ax.get_xticklabels(), rotation=45)\n",
    "ax.set_yticklabels(ax.get_yticklabels(), rotation=0)\n",
    "plt.show()"
   ]
  },
  {
   "cell_type": "code",
   "execution_count": null,
   "id": "755fe104",
   "metadata": {},
   "outputs": [],
   "source": [
    "fig, ax = plt.subplots(figsize=(4, 4))\n",
    "\n",
    "ax.set_title('Mean Matrix')\n",
    "ax = sns.heatmap(mean_matrix, annot=True, fmt=\".2f\", linewidths=.5, \n",
    "        yticklabels=['With Fire', 'Without Fire'], xticklabels=['With Fire', 'Without Fire'], cmap=plt.cm.Blues)\n",
    "        \n",
    "ax.set_xticklabels(ax.get_xticklabels(), rotation=45)\n",
    "ax.set_yticklabels(ax.get_yticklabels(), rotation=0)\n",
    "plt.show()"
   ]
  },
  {
   "cell_type": "code",
   "execution_count": null,
   "id": "68348ce5",
   "metadata": {},
   "outputs": [],
   "source": [
    "fig, ax = plt.subplots(figsize=(4, 4))\n",
    "\n",
    "ax.set_title('Upper Matrix')\n",
    "ax = sns.heatmap(upper_matrix, annot=True, fmt=\".2f\", linewidths=.5, \n",
    "        yticklabels=['With Fire', 'Without Fire'], xticklabels=['With Fire', 'Without Fire'], cmap=plt.cm.Blues)\n",
    "        \n",
    "ax.set_xticklabels(ax.get_xticklabels(), rotation=45)\n",
    "ax.set_yticklabels(ax.get_yticklabels(), rotation=0)\n",
    "plt.show()"
   ]
  }
 ],
 "metadata": {
  "kernelspec": {
   "display_name": "Python 3 (ipykernel)",
   "language": "python",
   "name": "python3"
  },
  "language_info": {
   "codemirror_mode": {
    "name": "ipython",
    "version": 3
   },
   "file_extension": ".py",
   "mimetype": "text/x-python",
   "name": "python",
   "nbconvert_exporter": "python",
   "pygments_lexer": "ipython3",
   "version": "3.8.10"
  }
 },
 "nbformat": 4,
 "nbformat_minor": 5
}
